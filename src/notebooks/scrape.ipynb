{
 "cells": [
  {
   "cell_type": "code",
   "execution_count": null,
   "metadata": {},
   "outputs": [],
   "source": [
    "start_year = 2014\n",
    "years_ago = 0"
   ]
  },
  {
   "cell_type": "code",
   "execution_count": 10,
   "metadata": {},
   "outputs": [],
   "source": [
    "import os\n",
    "import sys\n",
    "import datetime\n",
    "import requests\n",
    "import pandas as pd\n",
    "import inspect\n",
    "from inspect import getsourcefile\n",
    "from requests_html import HTML"
   ]
  },
  {
   "cell_type": "code",
   "execution_count": 14,
   "metadata": {},
   "outputs": [],
   "source": [
    "filename     = inspect.getframeinfo(inspect.currentframe()).filename\n",
    "BASE_DIR     = os.path.dirname(os.path.abspath(filename))\n",
    "DATA_DIR     = os.path.join(os.path.dirname(BASE_DIR), 'data')\n",
    "os.makedirs(DATA_DIR, exist_ok=True)"
   ]
  },
  {
   "cell_type": "code",
   "execution_count": 15,
   "metadata": {},
   "outputs": [],
   "source": [
    "def url_to_txt(url, filename=\"world.html\", save=False):\n",
    "    r = requests.get(url)\n",
    "    if r.status_code == 200:\n",
    "        html_text = r.text\n",
    "        if save:\n",
    "            with open(f\"world-{year}.html\", 'w') as f:\n",
    "                f.write(html_text)\n",
    "        return html_text\n",
    "    return None\n",
    "\n",
    "\n",
    "def parse_and_extract(url, name='2020'):\n",
    "    html_text = url_to_txt(url)\n",
    "    if html_text == None:\n",
    "        return False\n",
    "    r_html = HTML(html=html_text)\n",
    "    table_class = \".imdb-scroll-table\"\n",
    "    # table_class = \"#table\"\n",
    "    r_table = r_html.find(table_class)\n",
    "\n",
    "    # print(r_table)\n",
    "    table_data = []\n",
    "    # table_data_dicts = []\n",
    "    header_names = []\n",
    "    if len(r_table) == 0:\n",
    "        return False\n",
    "    parsed_table = r_table[0]\n",
    "    rows = parsed_table.find(\"tr\")\n",
    "    header_row = rows[0]\n",
    "    header_cols = header_row.find('th')\n",
    "    header_names = [x.text for x in header_cols]\n",
    "    for row in rows[1:]:\n",
    "        # print(row.text)\n",
    "        cols = row.find(\"td\")\n",
    "        row_data = []\n",
    "        row_dict_data = {}\n",
    "        for i, col in enumerate(cols):\n",
    "            # print(i, col.text, '\\n\\n')\n",
    "            header_name = header_names[i]\n",
    "            # row_dict_data[header_name] = col.text\n",
    "            row_data.append(col.text)\n",
    "        # table_data_dicts.append(row_dict_data)\n",
    "        table_data.append(row_data)\n",
    "    df = pd.DataFrame(table_data, columns=header_names)\n",
    "    # df = pd.DataFrame(table_data_dicts)\n",
    "    datadir_path = DATA_DIR\n",
    "    os.makedirs(datadir_path, exist_ok=True)\n",
    "    filepath = os.path.join(datadir_path, f'{name}.csv')\n",
    "    df.to_csv(filepath, index=False)\n",
    "    return True\n",
    "\n",
    "def run(start_year=None, years_ago=0):\n",
    "    if start_year == None:\n",
    "        now = datetime.datetime.now()\n",
    "        start_year = now.year\n",
    "    assert isinstance(start_year, int)\n",
    "    assert isinstance(years_ago, int)\n",
    "    assert len(f\"{start_year}\") == 4\n",
    "    for i in range(0, years_ago+1):\n",
    "        url = f\"https://www.boxofficemojo.com/year/world/{start_year}/\"\n",
    "        finished = parse_and_extract(url, name=start_year)\n",
    "        if finished:\n",
    "            print(f\"Finished {start_year}\")\n",
    "        else:\n",
    "            print(f\"{start_year} not finished\")\n",
    "        start_year -= 1"
   ]
  },
  {
   "cell_type": "code",
   "execution_count": 16,
   "metadata": {},
   "outputs": [
    {
     "name": "stdout",
     "output_type": "stream",
     "text": [
      "Finished 2020\n"
     ]
    }
   ],
   "source": [
    "run(int(start_year), int(years_ago))"
   ]
  },
  {
   "cell_type": "code",
   "execution_count": null,
   "metadata": {},
   "outputs": [],
   "source": []
  }
 ],
 "metadata": {
  "file_extension": ".py",
  "interpreter": {
   "hash": "36cf16204b8548560b1c020c4e8fb5b57f0e4c58016f52f2d4be01e192833930"
  },
  "kernelspec": {
   "display_name": "Python 3.9.4 64-bit",
   "name": "python3"
  },
  "language_info": {
   "name": "python",
   "version": ""
  },
  "mimetype": "text/x-python",
  "name": "python",
  "npconvert_exporter": "python",
  "orig_nbformat": 2,
  "pygments_lexer": "ipython3",
  "version": 3
 },
 "nbformat": 4,
 "nbformat_minor": 2
}